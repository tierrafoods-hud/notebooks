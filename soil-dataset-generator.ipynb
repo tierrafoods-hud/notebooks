{
 "cells": [
  {
   "cell_type": "code",
   "execution_count": 4,
   "metadata": {},
   "outputs": [],
   "source": [
    "import geopandas as gpd\n",
    "import pandas as pd\n",
    "\n",
    "TARGET_LAYER = 'orgc'\n",
    "\n",
    "# Read the geopackage file for target layer `orgc`\n",
    "df = gpd.read_file('../data/WoSIS_2023_December/wosis_202312.gpkg', \n",
    "                 layer=f'wosis_202312_{TARGET_LAYER}'\n",
    "                )\n",
    "\n",
    "# unique countries\n",
    "unique_countries = df['country_name'].unique()\n",
    "# as dataframe\n",
    "unique_countries_df = pd.DataFrame(sorted(unique_countries), columns=['country_name'])\n",
    "# save to csv\n",
    "unique_countries_df.to_csv(f'../data/unique_countries_in_{TARGET_LAYER}.csv', index=False)"
   ]
  },
  {
   "cell_type": "code",
   "execution_count": null,
   "metadata": {},
   "outputs": [],
   "source": [
    "COUNTRIES = [\"Mexico\", \"Argentina\" \"Spain\", \"United Kingdom\", \"United States of America\"]"
   ]
  }
 ],
 "metadata": {
  "kernelspec": {
   "display_name": ".venv",
   "language": "python",
   "name": "python3"
  },
  "language_info": {
   "codemirror_mode": {
    "name": "ipython",
    "version": 3
   },
   "file_extension": ".py",
   "mimetype": "text/x-python",
   "name": "python",
   "nbconvert_exporter": "python",
   "pygments_lexer": "ipython3",
   "version": "3.12.6"
  }
 },
 "nbformat": 4,
 "nbformat_minor": 2
}
