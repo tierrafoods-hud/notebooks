{
 "cells": [
  {
   "cell_type": "code",
   "execution_count": 25,
   "metadata": {},
   "outputs": [],
   "source": [
    "# import libraries\n",
    "import pandas as pd\n",
    "import numpy as np\n",
    "import matplotlib.pyplot as plt\n",
    "import seaborn as sns\n",
    "\n",
    "# CONSTANTS\n",
    "# title_master_dataset = \"Countries: Belize, El Salvador, Honduras, Nicaragua\"\n",
    "title_master_dataset = \"Mexico\"\n",
    "datasets = ['Mexico']\n",
    "dataset_name = 'master_dataset_Mexico'\n",
    "model_dataset_name = 'master_dataset_Mexico_model'\n",
    "threshold_of_missing_values = 0.3 # 30%\n",
    "\n",
    "\n",
    "# ---- do not modify below this line ----"
   ]
  },
  {
   "cell_type": "markdown",
   "metadata": {},
   "source": [
    "# Visualise the dataset"
   ]
  },
  {
   "cell_type": "code",
   "execution_count": null,
   "metadata": {},
   "outputs": [],
   "source": [
    "# load data\n",
    "load_data = []\n",
    "for dataset in datasets:\n",
    "    df = pd.read_csv(f'./outputs/20241216/{dataset}_wosis/{dataset}_wosis_merged.csv')\n",
    "    load_data.append(df)\n",
    "\n",
    "# append dataframes\n",
    "master_dataset = pd.concat(load_data, ignore_index=True)\n",
    "\n",
    "# save dataset\n",
    "master_dataset.to_csv(f'./data/soil/{dataset_name}.csv', index=False)\n",
    "\n",
    "master_dataset.head()"
   ]
  },
  {
   "cell_type": "markdown",
   "metadata": {},
   "source": [
    "# Visualise the missing values"
   ]
  },
  {
   "cell_type": "code",
   "execution_count": null,
   "metadata": {},
   "outputs": [],
   "source": [
    "# drop columns with more than 30% missing values\n",
    "master_dataset = master_dataset.dropna(thresh=threshold_of_missing_values * len(master_dataset), axis=1)\n",
    "\n",
    "# plot missing values\n",
    "plt.figure(figsize=(10, 6))\n",
    "sns.heatmap(master_dataset.isnull(), cbar=False, cmap='viridis')\n",
    "plt.title(f'Missing values in the {title_master_dataset} dataset')\n",
    "plt.show()"
   ]
  },
  {
   "cell_type": "markdown",
   "metadata": {},
   "source": [
    "# Visualise the data distribution"
   ]
  },
  {
   "cell_type": "code",
   "execution_count": null,
   "metadata": {},
   "outputs": [],
   "source": [
    "# Visualising data distribution\n",
    "import math\n",
    "def plot_distribution_charts(numeric_columns, dataset, title=\"\"):\n",
    "    num_cols = len(numeric_columns)\n",
    "\n",
    "    # Define the number of rows and columns dynamically\n",
    "    chart_cols = 3  # Fixed number of columns\n",
    "    chart_rows = math.ceil(num_cols / chart_cols)  # Calculate required rows based on columns\n",
    "\n",
    "    fig, axes = plt.subplots(chart_rows, chart_cols, figsize=(15, 3 * chart_rows), constrained_layout=True)\n",
    "    axes = axes.flatten()  # Flatten the axes for easy iteration\n",
    "\n",
    "    for i, col in enumerate(numeric_columns):\n",
    "        sns.histplot(dataset[col], kde=True, ax=axes[i])\n",
    "        axes[i].set_title(f'Distribution of {col}')\n",
    "\n",
    "    # Hide unused subplots\n",
    "    for j in range(i + 1, len(axes)):\n",
    "        axes[j].axis('off')\n",
    "\n",
    "    plt.suptitle(f\"Column distribution {title}\")\n",
    "    plt.show()\n",
    "\n",
    "\n",
    "# plot distribution charts\n",
    "numeric_columns_dataset = master_dataset.select_dtypes(include=['float64', 'int64']).columns\n",
    "plot_distribution_charts(numeric_columns_dataset, master_dataset, title_master_dataset)"
   ]
  }
 ],
 "metadata": {
  "kernelspec": {
   "display_name": ".venv",
   "language": "python",
   "name": "python3"
  },
  "language_info": {
   "codemirror_mode": {
    "name": "ipython",
    "version": 3
   },
   "file_extension": ".py",
   "mimetype": "text/x-python",
   "name": "python",
   "nbconvert_exporter": "python",
   "pygments_lexer": "ipython3",
   "version": "3.12.6"
  }
 },
 "nbformat": 4,
 "nbformat_minor": 2
}
