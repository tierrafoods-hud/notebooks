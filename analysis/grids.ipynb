{
 "cells": [
  {
   "cell_type": "code",
   "execution_count": null,
   "metadata": {},
   "outputs": [],
   "source": [
    "import folium\n",
    "import geopandas as gpd\n",
    "from shapely.geometry import Polygon\n",
    "import numpy as np\n",
    "import os\n",
    "# ignore warnings\n",
    "import warnings\n",
    "warnings.filterwarnings('ignore')\n",
    "\n",
    "mexico = gpd.read_file(\"D:/tierra/data/natural_earth/ne_110m_admin_0_countries.shp\")\n",
    "mexico = mexico[mexico['ADMIN'] == 'Mexico']\n",
    "\n",
    "# Define grid size (approx. 10km in degrees for WGS84)\n",
    "grid_size = 0.1  # ~10km\n",
    "\n",
    "# Get bounding box of Mexico\n",
    "minx, miny, maxx, maxy = mexico.total_bounds  # (west, south, east, north)\n",
    "\n",
    "# Generate grid cells\n",
    "grid_cells = []\n",
    "x_coords = np.arange(minx, maxx, grid_size)\n",
    "y_coords = np.arange(miny, maxy, grid_size)\n",
    "\n",
    "for x in x_coords:\n",
    "    for y in y_coords:\n",
    "        grid_cells.append(Polygon([(x, y), (x + grid_size, y), (x + grid_size, y + grid_size), (x, y + grid_size)]))\n",
    "\n",
    "# Convert grid to GeoDataFrame\n",
    "grid_gdf = gpd.GeoDataFrame(geometry=grid_cells, crs=\"EPSG:4326\")\n",
    "\n",
    "# Clip the grid to match Mexico's boundaries\n",
    "grid_gdf = gpd.overlay(grid_gdf, mexico, how=\"intersection\")\n",
    "\n",
    "# save the grid to a file\n",
    "file_path = \"D:/tierra/data/grids/mexico_grid_10km.shp\"\n",
    "os.makedirs(os.path.dirname(file_path), exist_ok=True)\n",
    "grid_gdf.to_file(file_path, driver=\"ESRI Shapefile\")\n",
    "\n",
    "# Create Folium map\n",
    "m = folium.Map(location=[mexico.geometry.centroid.y.values[0], mexico.geometry.centroid.x.values[0]], zoom_start=5, tiles=\"OpenStreetMap\")\n",
    "\n",
    "# Add clipped grid to the map\n",
    "folium.GeoJson(\n",
    "        grid_gdf, \n",
    "        name=\"10km Grid\", \n",
    "        style_function=lambda x: {'color': 'blue', 'weight': 0.2, 'fillOpacity': 0},\n",
    "        highlight_function=lambda x: {'weight': 3, 'fillOpacity': 0.5},\n",
    ").add_to(m)\n",
    "\n",
    "# Show map\n",
    "m\n"
   ]
  }
 ],
 "metadata": {
  "kernelspec": {
   "display_name": ".venv",
   "language": "python",
   "name": "python3"
  },
  "language_info": {
   "codemirror_mode": {
    "name": "ipython",
    "version": 3
   },
   "file_extension": ".py",
   "mimetype": "text/x-python",
   "name": "python",
   "nbconvert_exporter": "python",
   "pygments_lexer": "ipython3",
   "version": "3.12.6"
  }
 },
 "nbformat": 4,
 "nbformat_minor": 2
}
