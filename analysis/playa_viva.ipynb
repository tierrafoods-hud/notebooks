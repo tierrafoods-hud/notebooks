{
 "cells": [
  {
   "cell_type": "code",
   "execution_count": null,
   "metadata": {},
   "outputs": [],
   "source": [
    "import folium\n",
    "from folium.plugins import HeatMap\n",
    "import pandas as pd\n",
    "import geopandas as gpd\n",
    "\n",
    "# Load your dataset\n",
    "mexico_dataset = pd.read_csv('../../data/mexico_combined_data.csv')\n",
    "\n",
    "# Remove null values\n",
    "mexico_dataset = mexico_dataset[mexico_dataset[\"latitude\"].notna()]\n",
    "mexico_dataset = mexico_dataset[mexico_dataset[\"longitude\"].notna()]\n",
    "\n",
    "# Fill missing values with mean\n",
    "mexico_dataset[\"orgc\"] = mexico_dataset[\"orgc\"].fillna(mexico_dataset[\"orgc\"].mean())\n",
    "\n",
    "# Normalize the orgc values to emphasize differences\n",
    "min_val = mexico_dataset[\"orgc\"].min()\n",
    "max_val = mexico_dataset[\"orgc\"].max()\n",
    "mexico_dataset[\"orgc_normalized\"] = (mexico_dataset[\"orgc\"] - min_val) / (max_val - min_val) * 2\n",
    "\n",
    "# Load shapefile with polygon z geometry\n",
    "shapefile = gpd.read_file(\"../../data/playa_viva/Playa_Viva_UoH data.shp\")\n",
    "\n",
    "# Calculate centroid of shapefile\n",
    "centroid = shapefile.geometry.union_all().centroid\n",
    "\n",
    "# Create a folium map centered on shapefile centroid\n",
    "m = folium.Map(location=[centroid.y, centroid.x], zoom_start=12)\n",
    "\n",
    "# Prepare heatmap data\n",
    "heat_data = list(zip(mexico_dataset[\"latitude\"], mexico_dataset[\"longitude\"], mexico_dataset[\"orgc_normalized\"]))\n",
    "HeatMap(heat_data, min_opacity=0.2, radius=15).add_to(m)\n",
    "\n",
    "# Add shapefile polygons to the map\n",
    "for _, row in shapefile.iterrows():\n",
    "    # Create popup HTML with all column information\n",
    "    popup_html = \"<table>\"\n",
    "    for col in row.index:\n",
    "        if col != 'geometry':  # Skip geometry column\n",
    "            popup_html += f\"<tr><th>{col}</th><td>{row[col]}</td></tr>\"\n",
    "    popup_html += \"</table>\"\n",
    "    \n",
    "    folium.GeoJson(\n",
    "        row[\"geometry\"],\n",
    "        name=row[\"name\"] if \"name\" in row else \"Polygon\",\n",
    "        style_function=lambda x: {\n",
    "            'fillColor': '#ffaf00',\n",
    "            'color': '#000000',\n",
    "            'weight': 1,\n",
    "            'fillOpacity': 0.5\n",
    "        },\n",
    "        popup=folium.Popup(popup_html, max_width=300)\n",
    "    ).add_to(m)\n",
    "\n",
    "# Display map\n",
    "m"
   ]
  }
 ],
 "metadata": {
  "kernelspec": {
   "display_name": ".venv",
   "language": "python",
   "name": "python3"
  },
  "language_info": {
   "codemirror_mode": {
    "name": "ipython",
    "version": 3
   },
   "file_extension": ".py",
   "mimetype": "text/x-python",
   "name": "python",
   "nbconvert_exporter": "python",
   "pygments_lexer": "ipython3",
   "version": "3.12.6"
  }
 },
 "nbformat": 4,
 "nbformat_minor": 2
}
